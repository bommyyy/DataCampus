{
 "cells": [
  {
   "cell_type": "markdown",
   "id": "1f51d78b",
   "metadata": {},
   "source": [
    "## 랜덤 포레스트"
   ]
  },
  {
   "cell_type": "code",
   "execution_count": 8,
   "id": "91013f0a",
   "metadata": {},
   "outputs": [],
   "source": [
    "import pandas as pd\n",
    "df=pd.read_csv('cabbage_merge.csv',encoding='cp949')"
   ]
  },
  {
   "cell_type": "code",
   "execution_count": 9,
   "id": "e9a910d7",
   "metadata": {
    "scrolled": true
   },
   "outputs": [
    {
     "data": {
      "text/html": [
       "<div>\n",
       "<style scoped>\n",
       "    .dataframe tbody tr th:only-of-type {\n",
       "        vertical-align: middle;\n",
       "    }\n",
       "\n",
       "    .dataframe tbody tr th {\n",
       "        vertical-align: top;\n",
       "    }\n",
       "\n",
       "    .dataframe thead th {\n",
       "        text-align: right;\n",
       "    }\n",
       "</style>\n",
       "<table border=\"1\" class=\"dataframe\">\n",
       "  <thead>\n",
       "    <tr style=\"text-align: right;\">\n",
       "      <th></th>\n",
       "      <th>일시</th>\n",
       "      <th>품목</th>\n",
       "      <th>품종</th>\n",
       "      <th>광역산지</th>\n",
       "      <th>일별 도매가격(원/kg) 평균</th>\n",
       "      <th>일별 거래금액(백만원) 평균</th>\n",
       "      <th>일별 거래량(톤) 합</th>\n",
       "      <th>고랭지배추:면적 (ha)</th>\n",
       "      <th>10a당 생산량 (kg)</th>\n",
       "      <th>생산량 (톤)</th>\n",
       "      <th>2달 평균기온(°C)</th>\n",
       "      <th>2달 평균최저기온(°C)</th>\n",
       "      <th>2달 평균최고기온(°C)</th>\n",
       "      <th>일강수량(mm)</th>\n",
       "      <th>2달 평균 풍속(m/s)</th>\n",
       "      <th>2달 평균 상대습도(%)</th>\n",
       "      <th>2달 평균 합계일조시간(hr)</th>\n",
       "      <th>연도</th>\n",
       "      <th>월</th>\n",
       "      <th>일</th>\n",
       "    </tr>\n",
       "  </thead>\n",
       "  <tbody>\n",
       "    <tr>\n",
       "      <th>0</th>\n",
       "      <td>2014-07-08</td>\n",
       "      <td>배추</td>\n",
       "      <td>고냉지배추</td>\n",
       "      <td>강원</td>\n",
       "      <td>500.0</td>\n",
       "      <td>0.19</td>\n",
       "      <td>0.38</td>\n",
       "      <td>4579</td>\n",
       "      <td>3525</td>\n",
       "      <td>161410</td>\n",
       "      <td>21.181967</td>\n",
       "      <td>17.434426</td>\n",
       "      <td>25.086885</td>\n",
       "      <td>1.477049</td>\n",
       "      <td>1.960656</td>\n",
       "      <td>64.878689</td>\n",
       "      <td>5.842623</td>\n",
       "      <td>2014</td>\n",
       "      <td>7</td>\n",
       "      <td>8</td>\n",
       "    </tr>\n",
       "  </tbody>\n",
       "</table>\n",
       "</div>"
      ],
      "text/plain": [
       "           일시  품목     품종 광역산지  일별 도매가격(원/kg) 평균  일별 거래금액(백만원) 평균  일별 거래량(톤) 합  \\\n",
       "0  2014-07-08  배추  고냉지배추   강원             500.0             0.19         0.38   \n",
       "\n",
       "   고랭지배추:면적 (ha)  10a당 생산량 (kg)  생산량 (톤)  2달 평균기온(°C)  2달 평균최저기온(°C)  \\\n",
       "0           4579           3525   161410    21.181967      17.434426   \n",
       "\n",
       "   2달 평균최고기온(°C)  일강수량(mm)  2달 평균 풍속(m/s)  2달 평균 상대습도(%)  2달 평균 합계일조시간(hr)  \\\n",
       "0      25.086885  1.477049       1.960656      64.878689          5.842623   \n",
       "\n",
       "     연도  월  일  \n",
       "0  2014  7  8  "
      ]
     },
     "execution_count": 9,
     "metadata": {},
     "output_type": "execute_result"
    }
   ],
   "source": [
    "df.head(1)"
   ]
  },
  {
   "cell_type": "code",
   "execution_count": 10,
   "id": "7a0b4f61",
   "metadata": {},
   "outputs": [],
   "source": [
    "df = df.set_index('일시')"
   ]
  },
  {
   "cell_type": "code",
   "execution_count": 11,
   "id": "5bfb520a",
   "metadata": {
    "scrolled": true
   },
   "outputs": [
    {
     "data": {
      "text/plain": [
       "Index(['품목', '품종', '광역산지', '일별 도매가격(원/kg) 평균', '일별 거래금액(백만원) 평균',\n",
       "       '일별 거래량(톤) 합', '고랭지배추:면적 (ha)', '10a당 생산량 (kg)', '생산량 (톤)',\n",
       "       '2달 평균기온(°C)', '2달 평균최저기온(°C)', '2달 평균최고기온(°C)', '일강수량(mm)',\n",
       "       '2달 평균 풍속(m/s)', '2달 평균 상대습도(%)', '2달 평균 합계일조시간(hr)', '연도', '월', '일'],\n",
       "      dtype='object')"
      ]
     },
     "execution_count": 11,
     "metadata": {},
     "output_type": "execute_result"
    }
   ],
   "source": [
    "df.columns"
   ]
  },
  {
   "cell_type": "code",
   "execution_count": 12,
   "id": "67c031d7",
   "metadata": {},
   "outputs": [
    {
     "data": {
      "text/html": [
       "<div>\n",
       "<style scoped>\n",
       "    .dataframe tbody tr th:only-of-type {\n",
       "        vertical-align: middle;\n",
       "    }\n",
       "\n",
       "    .dataframe tbody tr th {\n",
       "        vertical-align: top;\n",
       "    }\n",
       "\n",
       "    .dataframe thead th {\n",
       "        text-align: right;\n",
       "    }\n",
       "</style>\n",
       "<table border=\"1\" class=\"dataframe\">\n",
       "  <thead>\n",
       "    <tr style=\"text-align: right;\">\n",
       "      <th></th>\n",
       "      <th>품목</th>\n",
       "      <th>품종</th>\n",
       "      <th>광역산지</th>\n",
       "      <th>일별 도매가격(원/kg) 평균</th>\n",
       "      <th>일별 거래금액(백만원) 평균</th>\n",
       "      <th>일별 거래량(톤) 합</th>\n",
       "      <th>고랭지배추:면적 (ha)</th>\n",
       "      <th>10a당 생산량 (kg)</th>\n",
       "      <th>생산량 (톤)</th>\n",
       "      <th>2달 평균기온(°C)</th>\n",
       "      <th>2달 평균최저기온(°C)</th>\n",
       "      <th>2달 평균최고기온(°C)</th>\n",
       "      <th>일강수량(mm)</th>\n",
       "      <th>2달 평균 풍속(m/s)</th>\n",
       "      <th>2달 평균 상대습도(%)</th>\n",
       "      <th>2달 평균 합계일조시간(hr)</th>\n",
       "      <th>연도</th>\n",
       "      <th>월</th>\n",
       "      <th>일</th>\n",
       "    </tr>\n",
       "    <tr>\n",
       "      <th>일시</th>\n",
       "      <th></th>\n",
       "      <th></th>\n",
       "      <th></th>\n",
       "      <th></th>\n",
       "      <th></th>\n",
       "      <th></th>\n",
       "      <th></th>\n",
       "      <th></th>\n",
       "      <th></th>\n",
       "      <th></th>\n",
       "      <th></th>\n",
       "      <th></th>\n",
       "      <th></th>\n",
       "      <th></th>\n",
       "      <th></th>\n",
       "      <th></th>\n",
       "      <th></th>\n",
       "      <th></th>\n",
       "      <th></th>\n",
       "    </tr>\n",
       "  </thead>\n",
       "  <tbody>\n",
       "    <tr>\n",
       "      <th>2014-07-08</th>\n",
       "      <td>배추</td>\n",
       "      <td>고냉지배추</td>\n",
       "      <td>강원</td>\n",
       "      <td>500.000000</td>\n",
       "      <td>0.190000</td>\n",
       "      <td>0.38</td>\n",
       "      <td>4579</td>\n",
       "      <td>3525</td>\n",
       "      <td>161410</td>\n",
       "      <td>21.181967</td>\n",
       "      <td>17.434426</td>\n",
       "      <td>25.086885</td>\n",
       "      <td>1.477049</td>\n",
       "      <td>1.960656</td>\n",
       "      <td>64.878689</td>\n",
       "      <td>5.842623</td>\n",
       "      <td>2014</td>\n",
       "      <td>7</td>\n",
       "      <td>8</td>\n",
       "    </tr>\n",
       "    <tr>\n",
       "      <th>2014-07-09</th>\n",
       "      <td>배추</td>\n",
       "      <td>고냉지배추</td>\n",
       "      <td>강원</td>\n",
       "      <td>581.000000</td>\n",
       "      <td>0.190000</td>\n",
       "      <td>0.32</td>\n",
       "      <td>4579</td>\n",
       "      <td>3525</td>\n",
       "      <td>161410</td>\n",
       "      <td>21.381967</td>\n",
       "      <td>17.663934</td>\n",
       "      <td>25.318033</td>\n",
       "      <td>1.927869</td>\n",
       "      <td>1.952459</td>\n",
       "      <td>65.352459</td>\n",
       "      <td>5.714754</td>\n",
       "      <td>2014</td>\n",
       "      <td>7</td>\n",
       "      <td>9</td>\n",
       "    </tr>\n",
       "    <tr>\n",
       "      <th>2014-07-10</th>\n",
       "      <td>배추</td>\n",
       "      <td>고냉지배추</td>\n",
       "      <td>강원</td>\n",
       "      <td>624.000000</td>\n",
       "      <td>0.320000</td>\n",
       "      <td>0.51</td>\n",
       "      <td>4579</td>\n",
       "      <td>3525</td>\n",
       "      <td>161410</td>\n",
       "      <td>21.537705</td>\n",
       "      <td>17.901639</td>\n",
       "      <td>25.411475</td>\n",
       "      <td>1.927869</td>\n",
       "      <td>1.949180</td>\n",
       "      <td>65.834426</td>\n",
       "      <td>5.606557</td>\n",
       "      <td>2014</td>\n",
       "      <td>7</td>\n",
       "      <td>10</td>\n",
       "    </tr>\n",
       "    <tr>\n",
       "      <th>2014-07-24</th>\n",
       "      <td>배추</td>\n",
       "      <td>고냉지배추</td>\n",
       "      <td>강원</td>\n",
       "      <td>828.666667</td>\n",
       "      <td>5.113333</td>\n",
       "      <td>19.30</td>\n",
       "      <td>4579</td>\n",
       "      <td>3525</td>\n",
       "      <td>161410</td>\n",
       "      <td>23.577049</td>\n",
       "      <td>20.121311</td>\n",
       "      <td>27.290164</td>\n",
       "      <td>2.309836</td>\n",
       "      <td>1.988525</td>\n",
       "      <td>65.408197</td>\n",
       "      <td>5.724590</td>\n",
       "      <td>2014</td>\n",
       "      <td>7</td>\n",
       "      <td>24</td>\n",
       "    </tr>\n",
       "    <tr>\n",
       "      <th>2014-07-25</th>\n",
       "      <td>배추</td>\n",
       "      <td>고냉지배추</td>\n",
       "      <td>강원</td>\n",
       "      <td>736.000000</td>\n",
       "      <td>6.990000</td>\n",
       "      <td>9.50</td>\n",
       "      <td>4579</td>\n",
       "      <td>3525</td>\n",
       "      <td>161410</td>\n",
       "      <td>23.575410</td>\n",
       "      <td>20.149180</td>\n",
       "      <td>27.336066</td>\n",
       "      <td>2.480328</td>\n",
       "      <td>1.972131</td>\n",
       "      <td>66.034426</td>\n",
       "      <td>5.709836</td>\n",
       "      <td>2014</td>\n",
       "      <td>7</td>\n",
       "      <td>25</td>\n",
       "    </tr>\n",
       "  </tbody>\n",
       "</table>\n",
       "</div>"
      ],
      "text/plain": [
       "            품목     품종 광역산지  일별 도매가격(원/kg) 평균  일별 거래금액(백만원) 평균  일별 거래량(톤) 합  \\\n",
       "일시                                                                           \n",
       "2014-07-08  배추  고냉지배추   강원        500.000000         0.190000         0.38   \n",
       "2014-07-09  배추  고냉지배추   강원        581.000000         0.190000         0.32   \n",
       "2014-07-10  배추  고냉지배추   강원        624.000000         0.320000         0.51   \n",
       "2014-07-24  배추  고냉지배추   강원        828.666667         5.113333        19.30   \n",
       "2014-07-25  배추  고냉지배추   강원        736.000000         6.990000         9.50   \n",
       "\n",
       "            고랭지배추:면적 (ha)  10a당 생산량 (kg)  생산량 (톤)  2달 평균기온(°C)  2달 평균최저기온(°C)  \\\n",
       "일시                                                                              \n",
       "2014-07-08           4579           3525   161410    21.181967      17.434426   \n",
       "2014-07-09           4579           3525   161410    21.381967      17.663934   \n",
       "2014-07-10           4579           3525   161410    21.537705      17.901639   \n",
       "2014-07-24           4579           3525   161410    23.577049      20.121311   \n",
       "2014-07-25           4579           3525   161410    23.575410      20.149180   \n",
       "\n",
       "            2달 평균최고기온(°C)  일강수량(mm)  2달 평균 풍속(m/s)  2달 평균 상대습도(%)  \\\n",
       "일시                                                                  \n",
       "2014-07-08      25.086885  1.477049       1.960656      64.878689   \n",
       "2014-07-09      25.318033  1.927869       1.952459      65.352459   \n",
       "2014-07-10      25.411475  1.927869       1.949180      65.834426   \n",
       "2014-07-24      27.290164  2.309836       1.988525      65.408197   \n",
       "2014-07-25      27.336066  2.480328       1.972131      66.034426   \n",
       "\n",
       "            2달 평균 합계일조시간(hr)    연도  월   일  \n",
       "일시                                         \n",
       "2014-07-08          5.842623  2014  7   8  \n",
       "2014-07-09          5.714754  2014  7   9  \n",
       "2014-07-10          5.606557  2014  7  10  \n",
       "2014-07-24          5.724590  2014  7  24  \n",
       "2014-07-25          5.709836  2014  7  25  "
      ]
     },
     "execution_count": 12,
     "metadata": {},
     "output_type": "execute_result"
    }
   ],
   "source": [
    "df.head()"
   ]
  },
  {
   "cell_type": "code",
   "execution_count": 13,
   "id": "d85c1df6",
   "metadata": {},
   "outputs": [],
   "source": [
    "%matplotlib inline\n",
    "import numpy as np\n",
    "import pandas as pd\n",
    "import matplotlib\n",
    "import matplotlib.pyplot as plt\n",
    "from matplotlib import style\n",
    "from sklearn.metrics import r2_score\n",
    "from sklearn.tree import DecisionTreeRegressor\n",
    "from sklearn.ensemble import RandomForestRegressor\n",
    "from sklearn.model_selection import train_test_split\n",
    "from sklearn.preprocessing import MinMaxScaler, StandardScaler\n",
    "\n",
    "style.use('seaborn-talk')\n",
    "\n",
    "krfont = {'family':'NanumGothic','weight':'bold','size':10}\n",
    "matplotlib.rc('font', **krfont)\n",
    "matplotlib.rcParams['axes.unicode_minus']=False\n",
    "\n",
    "x = df[['고랭지배추:면적 (ha)', '10a당 생산량 (kg)', '생산량 (톤)',\n",
    "       '2달 평균기온(°C)', '2달 평균최저기온(°C)', '2달 평균최고기온(°C)', '일강수량(mm)',\n",
    "       '2달 평균 풍속(m/s)', '2달 평균 상대습도(%)', '2달 평균 합계일조시간(hr)']].values\n",
    "y = df['일별 도매가격(원/kg) 평균']\n",
    "x_train,x_test,y_train,y_test = train_test_split(x,y,test_size=0.3,random_state=1)\n"
   ]
  },
  {
   "cell_type": "code",
   "execution_count": 14,
   "id": "2a7729b8",
   "metadata": {},
   "outputs": [
    {
     "data": {
      "text/plain": [
       "array([[4.57900000e+03, 3.52500000e+03, 1.61410000e+05, ...,\n",
       "        1.96065574e+00, 6.48786885e+01, 5.84262295e+00],\n",
       "       [4.57900000e+03, 3.52500000e+03, 1.61410000e+05, ...,\n",
       "        1.95245902e+00, 6.53524590e+01, 5.71475410e+00],\n",
       "       [4.57900000e+03, 3.52500000e+03, 1.61410000e+05, ...,\n",
       "        1.94918033e+00, 6.58344262e+01, 5.60655738e+00],\n",
       "       ...,\n",
       "       [0.00000000e+00, 0.00000000e+00, 0.00000000e+00, ...,\n",
       "        2.33606557e+00, 5.87819672e+01, 6.36229508e+00],\n",
       "       [0.00000000e+00, 0.00000000e+00, 0.00000000e+00, ...,\n",
       "        2.38196721e+00, 5.87622951e+01, 6.34918033e+00],\n",
       "       [0.00000000e+00, 0.00000000e+00, 0.00000000e+00, ...,\n",
       "        2.38524590e+00, 5.71590164e+01, 6.30983607e+00]])"
      ]
     },
     "execution_count": 14,
     "metadata": {},
     "output_type": "execute_result"
    }
   ],
   "source": [
    "x"
   ]
  },
  {
   "cell_type": "code",
   "execution_count": 15,
   "id": "70b04fac",
   "metadata": {},
   "outputs": [
    {
     "data": {
      "text/plain": [
       "일시\n",
       "2014-07-08    500.000000\n",
       "2014-07-09    581.000000\n",
       "2014-07-10    624.000000\n",
       "2014-07-24    828.666667\n",
       "2014-07-25    736.000000\n",
       "                 ...    \n",
       "2020-11-16    443.000000\n",
       "2020-11-18    630.000000\n",
       "2020-11-19    550.000000\n",
       "2020-11-20    510.000000\n",
       "2020-11-24    775.000000\n",
       "Name: 일별 도매가격(원/kg) 평균, Length: 665, dtype: float64"
      ]
     },
     "execution_count": 15,
     "metadata": {},
     "output_type": "execute_result"
    }
   ],
   "source": [
    "y"
   ]
  },
  {
   "cell_type": "code",
   "execution_count": 16,
   "id": "304eeae0",
   "metadata": {},
   "outputs": [
    {
     "name": "stdout",
     "output_type": "stream",
     "text": [
      "465\n",
      "200\n",
      "465\n",
      "200\n"
     ]
    }
   ],
   "source": [
    "print(len(x_train))\n",
    "print(len(x_test))\n",
    "print(len(y_train))\n",
    "print(len(y_test))"
   ]
  },
  {
   "cell_type": "code",
   "execution_count": 17,
   "id": "8a3316c1",
   "metadata": {},
   "outputs": [],
   "source": [
    "\n",
    "# MinMaxScaler을 통한 스케일링\n",
    "scaler = MinMaxScaler()\n",
    "# X scaler 생성\n",
    "x = scaler.fit_transform(x)\n",
    "# Y scaler 생성\n",
    "yscaler = scaler.fit(y.values.reshape(-1,1))\n",
    "\n",
    "# 스케일링 적용\n",
    "#X = Xscaler.transform(X)\n",
    "y = yscaler.transform(y.values.reshape(-1,1))\n",
    "\n",
    "X_train, X_test, y_train, y_test = train_test_split(x, y, test_size = 0.3, random_state=0)"
   ]
  },
  {
   "cell_type": "code",
   "execution_count": 18,
   "id": "2238d9de",
   "metadata": {},
   "outputs": [
    {
     "name": "stderr",
     "output_type": "stream",
     "text": [
      "<ipython-input-18-665102de5d18>:2: DataConversionWarning: A column-vector y was passed when a 1d array was expected. Please change the shape of y to (n_samples,), for example using ravel().\n",
      "  forest.fit(x_train,y_train)\n"
     ]
    },
    {
     "name": "stdout",
     "output_type": "stream",
     "text": [
      "훈련 R^2: 0.835, 테스트 R^2: -0.120\n"
     ]
    }
   ],
   "source": [
    "forest = RandomForestRegressor(n_estimators=2000,criterion='mse',random_state=1,n_jobs=-1)\n",
    "forest.fit(x_train,y_train)\n",
    "y_train_pred = forest.predict(x_train)\n",
    "y_test_pred = forest.predict(x_test)\n",
    "\n",
    "r2_train = r2_score(y_train,y_train_pred)\n",
    "r2_test = r2_score(y_test,y_test_pred)\n",
    "\n",
    "print('훈련 R^2: %.3f, 테스트 R^2: %.3f'%(r2_train,r2_test))"
   ]
  },
  {
   "cell_type": "code",
   "execution_count": 19,
   "id": "bfc07e85",
   "metadata": {},
   "outputs": [
    {
     "data": {
      "image/png": "[encoded data removed]",
      "text/plain": [
       "<Figure size 748.8x514.8 with 1 Axes>"
      ]
     },
     "metadata": {
      "needs_background": "light"
     },
     "output_type": "display_data"
    }
   ],
   "source": [
    "plt.plot(y_test_pred)\n",
    "plt.plot(y_test)\n",
    "plt.show()"
   ]
  },
  {
   "cell_type": "code",
   "execution_count": 20,
   "id": "76804f7b",
   "metadata": {},
   "outputs": [
    {
     "name": "stdout",
     "output_type": "stream",
     "text": [
      "0.0056276758057813205 0.04340037464311315\n"
     ]
    }
   ],
   "source": [
    "from sklearn.metrics import mean_squared_error\n",
    "\n",
    "train_mse = mean_squared_error(y_train, y_train_pred)\n",
    "mse = mean_squared_error(y_test, y_test_pred)\n",
    "\n",
    "print(train_mse, mse)"
   ]
  },
  {
   "cell_type": "code",
   "execution_count": null,
   "id": "5735bb80",
   "metadata": {},
   "outputs": [],
   "source": []
  }
 ],
 "metadata": {
  "kernelspec": {
   "display_name": "Python 3",
   "language": "python",
   "name": "python3"
  },
  "language_info": {
   "codemirror_mode": {
    "name": "ipython",
    "version": 3
   },
   "file_extension": ".py",
   "mimetype": "text/x-python",
   "name": "python",
   "nbconvert_exporter": "python",
   "pygments_lexer": "ipython3",
   "version": "3.8.11"
  },
  "toc": {
   "base_numbering": 1,
   "nav_menu": {},
   "number_sections": true,
   "sideBar": true,
   "skip_h1_title": false,
   "title_cell": "Table of Contents",
   "title_sidebar": "Contents",
   "toc_cell": false,
   "toc_position": {},
   "toc_section_display": true,
   "toc_window_display": false
  }
 },
 "nbformat": 4,
 "nbformat_minor": 5
}
